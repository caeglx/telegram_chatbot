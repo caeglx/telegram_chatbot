{
 "cells": [
  {
   "attachments": {},
   "cell_type": "markdown",
   "metadata": {},
   "source": [
    "## Create a telegram chatbot that sends you specific text messages\n",
    "### Create a bot\n",
    "First you need to create a bot in telegram using Botfather.\n",
    "1. Search for *BotFather* in the telegram. Type `/newbot` in the chat to create a new bot.\n",
    "2. Give your bot a name & a username\n",
    "3. Copy the token. You will need it, to say, that your bot should write a message. Not anyone else.\n",
    "4. To find out to who the message should be written to, you also need a chatid. That will be created when you write a message to it.\n",
    "\n",
    "The only package we need is `requests` to send our messages over HTTP.\n",
    "If you haven't installed it, install it using `pip install requests` in the terminal of your code editor."
   ]
  },
  {
   "cell_type": "code",
   "execution_count": 1,
   "metadata": {},
   "outputs": [],
   "source": [
    "import requests"
   ]
  },
  {
   "attachments": {},
   "cell_type": "markdown",
   "metadata": {},
   "source": [
    "### Getting your chat ID"
   ]
  },
  {
   "cell_type": "code",
   "execution_count": null,
   "metadata": {},
   "outputs": [],
   "source": [
    "token = 'insert token'\n",
    "url = f'https://api.telegram.org/bot{token}/getUpdates'\n",
    "print(requests.get(url).json())"
   ]
  },
  {
   "attachments": {},
   "cell_type": "markdown",
   "metadata": {},
   "source": [
    "The print function returns all massages written with the bot so far, as well as some metadata. These include a `'chat':{'id:` which is the same as the `'from':{'id:`. We copy that and use it to write a message to us."
   ]
  },
  {
   "cell_type": "code",
   "execution_count": 3,
   "metadata": {},
   "outputs": [],
   "source": [
    "chat_id = 'insert chat-id'"
   ]
  },
  {
   "attachments": {},
   "cell_type": "markdown",
   "metadata": {},
   "source": [
    "### Write a message from the bot to you"
   ]
  },
  {
   "cell_type": "code",
   "execution_count": null,
   "metadata": {},
   "outputs": [],
   "source": [
    "message = 'Hello from your telegram-bot!'\n",
    "url = f'https://api.telegram.org/bot{token}/sendMessage?chat_id={chat_id}&text={message}'\n",
    "print(requests.get(url).json()) # this sends the message"
   ]
  }
 ],
 "metadata": {
  "kernelspec": {
   "display_name": "Python 3",
   "language": "python",
   "name": "python3"
  },
  "language_info": {
   "codemirror_mode": {
    "name": "ipython",
    "version": 3
   },
   "file_extension": ".py",
   "mimetype": "text/x-python",
   "name": "python",
   "nbconvert_exporter": "python",
   "pygments_lexer": "ipython3",
   "version": "3.11.0rc1"
  },
  "orig_nbformat": 4,
  "vscode": {
   "interpreter": {
    "hash": "ead1b95f633dc9c51826328e1846203f51a198c6fb5f2884a80417ba131d4e82"
   }
  }
 },
 "nbformat": 4,
 "nbformat_minor": 2
}
